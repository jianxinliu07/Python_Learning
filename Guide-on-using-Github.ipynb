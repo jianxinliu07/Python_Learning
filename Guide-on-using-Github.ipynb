{
 "cells": [
  {
   "cell_type": "markdown",
   "metadata": {},
   "source": [
    "This guide introduct how to use Github on your windows system to clone, track and commit your repository. \n",
    "For detail, please read the original content of the book at https://git-scm.com/book/en/v2 "
   ]
  },
  {
   "cell_type": "markdown",
   "metadata": {},
   "source": [
    "### Version Control\n",
    "Version control is a system that records changes to a file or set of files over time so that you can recall specific versions later. "
   ]
  },
  {
   "cell_type": "markdown",
   "metadata": {},
   "source": [
    "### About Git\n",
    "Git thinks of its data more like a series of snapshots of a miniature filesystem. With Git, every time you commit, or save the state of your project, Git basically takes a picture of what all your files look like at that moment and stores a reference to that snapshot. To be efficient, if files have not changed, Git doesn’t store the file again, just a link to the previous identical file it has already stored. Git thinks about its data more like a stream of snapshots."
   ]
  },
  {
   "cell_type": "markdown",
   "metadata": {},
   "source": [
    "### The Three States\n",
    "Git has three main states that your files can reside in: modified, staged, and committed:\n",
    "\n",
    "1. Modified means that you have changed the file but have not committed it to your database yet.\n",
    "\n",
    "2. Staged means that you have marked a modified file in its current version to go into your next commit snapshot.\n",
    "\n",
    "3. Committed means that the data is safely stored in your local database.\n",
    "\n"
   ]
  },
  {
   "cell_type": "markdown",
   "metadata": {},
   "source": [
    "### Installing Git on Windows\n",
    "There are also a few ways to install Git on Windows. The most official build is available for download on the Git website. Just go to https://git-scm.com/download/win and the download will start automatically."
   ]
  },
  {
   "cell_type": "markdown",
   "metadata": {},
   "source": [
    "You can view all of your settings and where they are coming from using:\n",
    "\n",
    "$ git config --list --show-origin\n",
    "\n",
    "Set your information:\n",
    "\n",
    "$ git config --global user.name \"John Doe\"\n",
    "\n",
    "$ git config --global user.email johndoe@example.com"
   ]
  },
  {
   "cell_type": "markdown",
   "metadata": {},
   "source": [
    "### Getting a Git Repository\n",
    "You typically obtain a Git repository in one of two ways:\n",
    "\n",
    "You can take a local directory that is currently not under version control, and turn it into a Git repository, or\n",
    "\n",
    "You can clone an existing Git repository from elsewhere.\n",
    "\n",
    "In either case, you end up with a Git repository on your local machine, ready for work.\n",
    "\n",
    "#### Initializing a Repository in an Existing Directory\n",
    "If you have a project directory that is currently not under version control and you want to start controlling it with Git, you first need to go to that project’s directory. \n",
    "\n",
    "for Windows:\n",
    "\n",
    "$ cd /c/user/my_project\n",
    "\n",
    "and type:\n",
    "\n",
    "$ git init\n",
    "\n",
    "This creates a new subdirectory named .git that contains all of your necessary repository files — a Git repository skeleton. At this point, nothing in your project is tracked yet. (See Git Internals for more information about exactly what files are contained in the .git directory you just created.)\n",
    "\n",
    "If you want to start version-controlling existing files (as opposed to an empty directory), you should probably begin tracking those files and do an initial commit. You can accomplish that with a few git add commands that specify the files you want to track, followed by a git commit:\n",
    "\n",
    "$ git add *.c\n",
    "\n",
    "$ git add LICENSE\n",
    "\n",
    "$ git commit -m 'initial project version'\n",
    "\n",
    "\n",
    "#### Cloning an Existing Repository\n",
    "If you want to get a copy of an existing Git repository — for example, a project you’d like to contribute to — the command you need is git clone.  \n",
    "\n",
    "You clone a repository with git clone <url>. For example, if you want to clone the Git linkable library called libgit2, you can do so like this:\n",
    "\n",
    "$ git clone https://github.com/libgit2/libgit2\n",
    "\n",
    "That creates a directory named libgit2, initializes a .git directory inside it, pulls down all the data for that repository, and checks out a working copy of the latest version. If you go into the new libgit2 directory that was just created, you’ll see the project files in there, ready to be worked on or used.\n",
    "\n",
    "If you want to clone the repository into a directory named something other than libgit2, you can specify the new directory name as an additional argument:\n",
    "\n",
    "$ git clone https://github.com/libgit2/libgit2 mylibgit\n",
    "\n",
    "That command does the same thing as the previous one, but the target directory is called mylibgit.\n",
    "\n",
    "Git has a number of different transfer protocols you can use. The previous example uses the https:// protocol, but you may also see git:// or user@server:path/to/repo.git, which uses the SSH transfer protocol. Getting Git on a Server will introduce all of the available options the server can set up to access your Git repository and the pros and cons of each."
   ]
  },
  {
   "cell_type": "markdown",
   "metadata": {},
   "source": [
    "Example below use Github repository:"
   ]
  },
  {
   "cell_type": "raw",
   "metadata": {},
   "source": [
    "jianx@DESKTOP-SKLRPRJ MINGW64 ~/Python_Learning (master)\n",
    "$ git clone https://github.com/jianxinliu07/Guide-on-using-Github\n",
    "Cloning into 'Guide-on-using-Github'...\n",
    "remote: Enumerating objects: 3, done.\n",
    "remote: Counting objects: 100% (3/3), done.\n",
    "remote: Compressing objects: 100% (2/2), done.\n",
    "remote: Total 3 (delta 0), reused 0 (delta 0), pack-reused 0\n",
    "Unpacking objects: 100% (3/3), done.\n",
    "\n",
    "jianx@DESKTOP-SKLRPRJ MINGW64 ~/Python_Learning (master)\n",
    "$ ls -l\n",
    "total 4\n",
    "drwxr-xr-x 1 jianx 197609 0 Oct  5 12:53 Guide-on-using-Github/\n",
    "drwxr-xr-x 1 jianx 197609 0 Oct  5 11:44 Python_Learning_zip/\n",
    "\n",
    "jianx@DESKTOP-SKLRPRJ MINGW64 ~/Python_Learning/Guide-on-using-Github (master)\n",
    "$ ls -l\n",
    "total 1\n",
    "-rw-r--r-- 1 jianx 197609 58 Oct  5 12:53 README.md\n"
   ]
  },
  {
   "cell_type": "markdown",
   "metadata": {},
   "source": [
    "### Check status of your file"
   ]
  },
  {
   "cell_type": "raw",
   "metadata": {},
   "source": [
    "$ git status\n",
    "On branch master\n",
    "Your branch is up to date with 'origin/master'.\n",
    "\n",
    "nothing to commit, working tree clean\n",
    "\n"
   ]
  },
  {
   "cell_type": "markdown",
   "metadata": {},
   "source": [
    "This means you have a clean working directory; in other words, none of your tracked files are modified. Git also doesn’t see any untracked files, or they would be listed here."
   ]
  },
  {
   "cell_type": "markdown",
   "metadata": {},
   "source": [
    "### Add a new file\n",
    "Add a new file to the directory. \n",
    "Use the following procedure to add, commit and push."
   ]
  },
  {
   "cell_type": "raw",
   "metadata": {},
   "source": [
    "$ ls -l\n",
    "total 9\n",
    "-rw-r--r-- 1 jianx 197609 7781 Oct  5 13:03 Guide-on-using-Github.ipynb\n",
    "-rw-r--r-- 1 jianx 197609   58 Oct  5 12:53 README.md\n",
    "\n",
    "$ git status\n",
    "On branch master\n",
    "Your branch is up to date with 'origin/master'.\n",
    "\n",
    "Untracked files:\n",
    "  (use \"git add <file>...\" to include in what will be committed)\n",
    "\n",
    "        .ipynb_checkpoints/\n",
    "        Guide-on-using-Github.ipynb\n",
    "\n",
    "nothing added to commit but untracked files present (use \"git add\" to track)\n",
    "\n",
    "$ git add Guide-on-using-Github.ipynb\n",
    "warning: LF will be replaced by CRLF in Guide-on-using-Github.ipynb.\n",
    "The file will have its original line endings in your working directory\n",
    "\n",
    "$ git status\n",
    "On branch master\n",
    "Your branch is up to date with 'origin/master'.\n",
    "\n",
    "Changes to be committed:\n",
    "  (use \"git reset HEAD <file>...\" to unstage)\n",
    "\n",
    "        new file:   Guide-on-using-Github.ipynb\n",
    "\n",
    "Untracked files:\n",
    "  (use \"git add <file>...\" to include in what will be committed)\n",
    "\n",
    "        .ipynb_checkpoints/\n",
    "\n",
    "\n",
    "$ git add .ipynb_checkpoints/\n",
    "warning: LF will be replaced by CRLF in .ipynb_checkpoints/Guide-on-using-Github-checkpoint.ipynb.\n",
    "The file will have its original line endings in your working directory\n",
    "\n",
    "$ git status\n",
    "On branch master\n",
    "Your branch is up to date with 'origin/master'.\n",
    "\n",
    "Changes to be committed:\n",
    "  (use \"git reset HEAD <file>...\" to unstage)\n",
    "\n",
    "        new file:   .ipynb_checkpoints/Guide-on-using-Github-checkpoint.ipynb\n",
    "        new file:   Guide-on-using-Github.ipynb\n",
    "\n",
    "\n",
    "jianx@DESKTOP-SKLRPRJ MINGW64 ~/Python_Learning/Guide-on-using-Github (master)\n",
    "$\n"
   ]
  },
  {
   "cell_type": "markdown",
   "metadata": {},
   "source": [
    "### Committing Your Changes"
   ]
  },
  {
   "cell_type": "raw",
   "metadata": {},
   "source": [
    "$ git commit -m \"Add Git Guide - Initial\"\n",
    "[master 9c8f344] Add Git Guide - Initial\n",
    " 2 files changed, 411 insertions(+)\n",
    " create mode 100644 .ipynb_checkpoints/Guide-on-using-Github-checkpoint.ipynb\n",
    " create mode 100644 Guide-on-using-Github.ipynb\n",
    "\n",
    "jianx@DESKTOP-SKLRPRJ MINGW64 ~/Python_Learning/Guide-on-using-Github (master)\n",
    "$ git status\n",
    "On branch master\n",
    "Your branch is ahead of 'origin/master' by 1 commit.\n",
    "  (use \"git push\" to publish your local commits)\n",
    "\n",
    "Changes not staged for commit:\n",
    "  (use \"git add <file>...\" to update what will be committed)\n",
    "  (use \"git checkout -- <file>...\" to discard changes in working directory)\n",
    "\n",
    "        modified:   Guide-on-using-Github.ipynb\n",
    "\n",
    "no changes added to commit (use \"git add\" and/or \"git commit -a\") "
   ]
  },
  {
   "cell_type": "markdown",
   "metadata": {},
   "source": [
    "You can check the change on Github.com. You should be able to see the new committed file with the message you added in the procedure above."
   ]
  },
  {
   "cell_type": "markdown",
   "metadata": {},
   "source": [
    "### File in Changes not staged for commit\n",
    "The file above appears under a section named “Changes not staged for commit” — which means that a file that is tracked has been modified in the working directory but not yet staged. To stage it, you run the git add command. git add is a multipurpose command — you use it to begin tracking new files, to stage files, and to do other things like marking merge-conflicted files as resolved. It may be helpful to think of it more as “add precisely this content to the next commit” rather than “add this file to the project”. Let’s run git add now to stage the file, and then run git status again:"
   ]
  },
  {
   "cell_type": "raw",
   "metadata": {},
   "source": [
    "$ git add .ipynb_checkpoints/Guide-on-using-Github-checkpoint.ipynb\n",
    "warning: LF will be replaced by CRLF in .ipynb_checkpoints/Guide-on-using-Github-checkpoint.ipynb.\n",
    "The file will have its original line endings in your working directory\n",
    "\n",
    "$ git add Guide-on-using-Github.ipynb\n",
    "warning: LF will be replaced by CRLF in Guide-on-using-Github.ipynb.\n",
    "The file will have its original line endings in your working directory\n",
    "\n",
    "$ git status\n",
    "On branch master\n",
    "Your branch is ahead of 'origin/master' by 1 commit.\n",
    "  (use \"git push\" to publish your local commits)\n",
    "\n",
    "Changes to be committed:\n",
    "  (use \"git reset HEAD <file>...\" to unstage)\n",
    "\n",
    "        modified:   .ipynb_checkpoints/Guide-on-using-Github-checkpoint.ipynb\n",
    "        modified:   Guide-on-using-Github.ipynb\n",
    "\n",
    "\n",
    "$ git commit -m \"Add Git Guide - second\"\n",
    "[master fb3fc67] Add Git Guide - second\n",
    " 2 files changed, 221 insertions(+), 6 deletions(-)\n",
    "\n",
    "$ git status\n",
    "On branch master\n",
    "Your branch is ahead of 'origin/master' by 2 commits.\n",
    "  (use \"git push\" to publish your local commits)\n",
    "\n",
    "nothing to commit, working tree clean\n",
    "\n",
    "$ git push\n",
    "git: 'credential-cache' is not a git command. See 'git --help'.\n",
    "Enumerating objects: 10, done.\n",
    "Counting objects: 100% (10/10), done.\n",
    "Delta compression using up to 8 threads\n",
    "Compressing objects: 100% (9/9), done.\n",
    "Writing objects: 100% (9/9), 4.23 KiB | 4.23 MiB/s, done.\n",
    "Total 9 (delta 2), reused 0 (delta 0)\n",
    "remote: Resolving deltas: 100% (2/2), done.\n",
    "To https://github.com/jianxinliu07/Guide-on-using-Github\n",
    "   cd71743..fb3fc67  master -> master\n",
    "\n"
   ]
  },
  {
   "cell_type": "markdown",
   "metadata": {},
   "source": [
    "#### Another way to simplify the process:\n",
    "You don’t have to run git add on the not staged file in this case before you commit by usingf -a flag includes all changed files. This is convenient, but be careful; sometimes this flag will cause you to include unwanted changes."
   ]
  },
  {
   "cell_type": "raw",
   "metadata": {},
   "source": [
    "$ git status\n",
    "On branch master\n",
    "Your branch is up to date with 'origin/master'.\n",
    "\n",
    "Changes not staged for commit:\n",
    "  (use \"git add <file>...\" to update what will be committed)\n",
    "  (use \"git checkout -- <file>...\" to discard changes in working directory)\n",
    "\n",
    "        modified:   .ipynb_checkpoints/Guide-on-using-Github-checkpoint.ipynb\n",
    "        modified:   Guide-on-using-Github.ipynb\n",
    "\n",
    "no changes added to commit (use \"git add\" and/or \"git commit -a\")\n",
    "\n",
    "$ git commit -a -m \"Add Git Guide - third\"\n",
    "warning: LF will be replaced by CRLF in .ipynb_checkpoints/Guide-on-using-Github-checkpoint.ipynb.\n",
    "The file will have its original line endings in your working directory\n",
    "warning: LF will be replaced by CRLF in Guide-on-using-Github.ipynb.\n",
    "The file will have its original line endings in your working directory\n",
    "[master 43b71a1] Add Git Guide - third\n",
    " 2 files changed, 100 insertions(+), 8 deletions(-)\n",
    "\n"
   ]
  },
  {
   "cell_type": "markdown",
   "metadata": {},
   "source": [
    "### Other Git command"
   ]
  },
  {
   "cell_type": "markdown",
   "metadata": {},
   "source": [
    "#### Removing Files\n",
    "To remove a file from Git, you have to remove it from your tracked files (more accurately, remove it from your staging area) and then commit. The git rm command does that, and also removes the file from your working directory so you don’t see it as an untracked file the next time around.\n",
    "\n",
    "If you simply remove the file from your working directory, it shows up under the “Changes not staged for commit” (that is, unstaged) area of your git status output:"
   ]
  },
  {
   "cell_type": "markdown",
   "metadata": {},
   "source": [
    "First Add file, git add and commit. Then check Github for the changes."
   ]
  },
  {
   "cell_type": "raw",
   "metadata": {},
   "source": [
    "$ ls -l\n",
    "total 18\n",
    "-rw-r--r-- 1 jianx 197609 16163 Oct  5 13:29 Guide-on-using-Github.ipynb\n",
    "-rw-r--r-- 1 jianx 197609    58 Oct  5 12:53 README.md\n",
    "-rw-r--r-- 1 jianx 197609     4 Oct  5 13:30 testfile\n",
    "\n",
    "$ git status\n",
    "On branch master\n",
    "Your branch is ahead of 'origin/master' by 1 commit.\n",
    "  (use \"git push\" to publish your local commits)\n",
    "\n",
    "Changes not staged for commit:\n",
    "  (use \"git add <file>...\" to update what will be committed)\n",
    "  (use \"git checkout -- <file>...\" to discard changes in working directory)\n",
    "\n",
    "        modified:   Guide-on-using-Github.ipynb\n",
    "\n",
    "Untracked files:\n",
    "  (use \"git add <file>...\" to include in what will be committed)\n",
    "\n",
    "        testfile\n",
    "\n",
    "no changes added to commit (use \"git add\" and/or \"git commit -a\")\n",
    "\n",
    "$ git add testfile\n",
    "warning: LF will be replaced by CRLF in testfile.\n",
    "The file will have its original line endings in your working directory\n",
    "\n",
    "$ git status\n",
    "On branch master\n",
    "Your branch is ahead of 'origin/master' by 1 commit.\n",
    "  (use \"git push\" to publish your local commits)\n",
    "\n",
    "Changes to be committed:\n",
    "  (use \"git reset HEAD <file>...\" to unstage)\n",
    "\n",
    "        new file:   testfile\n",
    "\n",
    "Changes not staged for commit:\n",
    "  (use \"git add <file>...\" to update what will be committed)\n",
    "  (use \"git checkout -- <file>...\" to discard changes in working directory)\n",
    "\n",
    "        modified:   Guide-on-using-Github.ipynb\n",
    "\n",
    "\n",
    "$ git commit -a -m \"Add test file\"\n",
    "warning: LF will be replaced by CRLF in Guide-on-using-Github.ipynb.\n",
    "The file will have its original line endings in your working directory\n",
    "[master b4a0835] Add test file\n",
    " 2 files changed, 60 insertions(+), 1 deletion(-)\n",
    " create mode 100644 testfile\n",
    "\n",
    "$ git status\n",
    "On branch master\n",
    "Your branch is ahead of 'origin/master' by 2 commits.\n",
    "  (use \"git push\" to publish your local commits)\n",
    "\n",
    "nothing to commit, working tree clean\n",
    "\n",
    "$ git push\n",
    "git: 'credential-cache' is not a git command. See 'git --help'.\n",
    "Enumerating objects: 13, done.\n",
    "Counting objects: 100% (12/12), done.\n",
    "Delta compression using up to 8 threads\n",
    "Compressing objects: 100% (8/8), done.\n",
    "Writing objects: 100% (9/9), 2.28 KiB | 1.14 MiB/s, done.\n",
    "Total 9 (delta 3), reused 0 (delta 0)\n",
    "remote: Resolving deltas: 100% (3/3), completed with 1 local object.\n",
    "To https://github.com/jianxinliu07/Guide-on-using-Github\n",
    "   fb3fc67..b4a0835  master -> master\n",
    "\n"
   ]
  },
  {
   "cell_type": "markdown",
   "metadata": {},
   "source": [
    "This is what on Github. Please notice that testfile is in the list now. "
   ]
  },
  {
   "cell_type": "raw",
   "metadata": {},
   "source": [
    ".ipynb_checkpoints\t        Add Git Guide - third\t11 minutes ago\n",
    "Guide-on-using-Github.ipynb\tAdd test file\t1 minute ago\n",
    "README.md\t                Initial commit\t2 hours ago\n",
    "testfile\t                Add test file\t1 minute ago"
   ]
  },
  {
   "cell_type": "markdown",
   "metadata": {},
   "source": [
    "Next Remove the file"
   ]
  },
  {
   "cell_type": "raw",
   "metadata": {},
   "source": [
    "$ rm testfile\n",
    "\n",
    "$ ls -l\n",
    "total 21\n",
    "-rw-r--r-- 1 jianx 197609 20019 Oct  5 13:41 Guide-on-using-Github.ipynb\n",
    "-rw-r--r-- 1 jianx 197609    58 Oct  5 12:53 README.md\n",
    "\n",
    "$ git status\n",
    "On branch master\n",
    "Your branch is ahead of 'origin/master' by 1 commit.\n",
    "  (use \"git push\" to publish your local commits)\n",
    "\n",
    "Changes not staged for commit:\n",
    "  (use \"git add/rm <file>...\" to update what will be committed)\n",
    "  (use \"git checkout -- <file>...\" to discard changes in working directory)\n",
    "\n",
    "        deleted:    testfile\n",
    "\n",
    "no changes added to commit (use \"git add\" and/or \"git commit -a\")\n",
    "\n",
    "$ git rm testfile\n",
    "rm 'testfile'\n",
    "\n",
    "$ git status\n",
    "On branch master\n",
    "Your branch is ahead of 'origin/master' by 1 commit.\n",
    "  (use \"git push\" to publish your local commits)\n",
    "\n",
    "Changes to be committed:\n",
    "  (use \"git reset HEAD <file>...\" to unstage)\n",
    "\n",
    "        deleted:    testfile\n",
    "\n",
    "Changes not staged for commit:\n",
    "  (use \"git add <file>...\" to update what will be committed)\n",
    "  (use \"git checkout -- <file>...\" to discard changes in working directory)\n",
    "\n",
    "        modified:   Guide-on-using-Github.ipynb\n",
    "\n",
    "\n",
    "$ git commit -a -m \"remove testfile\"\n",
    "warning: LF will be replaced by CRLF in Guide-on-using-Github.ipynb.\n",
    "The file will have its original line endings in your working directory\n",
    "[master b6dde91] remove testfile\n",
    " 2 files changed, 8 insertions(+), 4 deletions(-)\n",
    " delete mode 100644 testfile\n",
    "\n",
    "$ git status\n",
    "On branch master\n",
    "Your branch is ahead of 'origin/master' by 2 commits.\n",
    "  (use \"git push\" to publish your local commits)\n",
    "\n",
    "nothing to commit, working tree clean\n",
    "\n",
    "$ git push\n",
    "git: 'credential-cache' is not a git command. See 'git --help'.\n",
    "Enumerating objects: 8, done.\n",
    "Counting objects: 100% (8/8), done.\n",
    "Delta compression using up to 8 threads\n",
    "Compressing objects: 100% (6/6), done.\n",
    "Writing objects: 100% (6/6), 1.18 KiB | 1.18 MiB/s, done.\n",
    "Total 6 (delta 3), reused 0 (delta 0)\n",
    "remote: Resolving deltas: 100% (3/3), completed with 2 local objects.\n",
    "To https://github.com/jianxinliu07/Guide-on-using-Github\n",
    "   b4a0835..b6dde91  master -> master\n"
   ]
  },
  {
   "cell_type": "markdown",
   "metadata": {},
   "source": [
    "Check Github.com again and the file is also removed on Github."
   ]
  },
  {
   "cell_type": "raw",
   "metadata": {},
   "source": [
    "Type\tName\tLatest commit message\tCommit time\n",
    ".ipynb_checkpoints\t        Add Git Guide - third\t21 minutes ago\n",
    "Guide-on-using-Github.ipynb\tremove testfile\t3 minutes ago\n",
    "README.md\t                Initial commit\t2 hours ago"
   ]
  },
  {
   "cell_type": "markdown",
   "metadata": {},
   "source": [
    "#### Git log - Viewing the Commit History"
   ]
  },
  {
   "cell_type": "raw",
   "metadata": {},
   "source": [
    "$ git log\n",
    "commit b6dde91802d59ed690a7b2eefd086b3fee52db32 (HEAD -> master, origin/master, origin/HEAD)\n",
    "Author: rsm-jil042 <jil042@ucsd.edu>\n",
    "Date:   Sat Oct 5 13:44:27 2019 -0700\n",
    "\n",
    "    remove testfile\n",
    "\n",
    "commit 3bbd2cc1a89491bc0eb27b99d13282748ce3329f\n",
    "Author: rsm-jil042 <jil042@ucsd.edu>\n",
    "Date:   Sat Oct 5 13:42:29 2019 -0700\n",
    "\n",
    "    update guide\n",
    "\n",
    "commit b4a083576ed219eebc415e0d9787a3aac51fa04c\n",
    "Author: rsm-jil042 <jil042@ucsd.edu>\n",
    "Date:   Sat Oct 5 13:36:18 2019 -0700\n",
    "\n",
    "    Add test file\n",
    "\n",
    "commit 43b71a1b45b4983e08dc4f737aa992f378caa89d\n",
    "Author: rsm-jil042 <jil042@ucsd.edu>\n",
    "Date:   Sat Oct 5 13:26:29 2019 -0700\n",
    "\n",
    "    Add Git Guide - third\n",
    "\n",
    "commit fb3fc6784f6b7370c20a1989a089281fc43222a7\n",
    "Author: rsm-jil042 <jil042@ucsd.edu>\n",
    "Date:   Sat Oct 5 13:21:22 2019 -0700\n",
    "\n",
    "    Add Git Guide - second\n",
    "\n",
    "commit 9c8f3443b4574aa02007a6e069e2d66dcba171a8\n",
    "Author: rsm-jil042 <jil042@ucsd.edu>\n",
    "Date:   Sat Oct 5 13:12:35 2019 -0700\n",
    "\n",
    "    Add Git Guide - Initial\n",
    "\n",
    "commit cd717437d781070199beba9822c88a9b202a78a9\n",
    "Author: Jianxin Liu <46658133+jianxinliu07@users.noreply.github.com>\n",
    "Date:   Sat Oct 5 12:04:22 2019 -0700\n",
    "\n",
    "    Initial commit\n"
   ]
  },
  {
   "cell_type": "markdown",
   "metadata": {},
   "source": [
    "#### Show remote "
   ]
  },
  {
   "cell_type": "raw",
   "metadata": {},
   "source": [
    "$ git remote -v\n",
    "origin  https://github.com/jianxinliu07/Python_Learning-zip.git (fetch)\n",
    "origin  https://github.com/jianxinliu07/Python_Learning-zip.git (push)\n",
    "\n"
   ]
  },
  {
   "cell_type": "markdown",
   "metadata": {},
   "source": [
    "Reference: https://git-scm.com/book/en/v2"
   ]
  }
 ],
 "metadata": {
  "kernelspec": {
   "display_name": "Python 3",
   "language": "python",
   "name": "python3"
  },
  "language_info": {
   "codemirror_mode": {
    "name": "ipython",
    "version": 3
   },
   "file_extension": ".py",
   "mimetype": "text/x-python",
   "name": "python",
   "nbconvert_exporter": "python",
   "pygments_lexer": "ipython3",
   "version": "3.7.3"
  }
 },
 "nbformat": 4,
 "nbformat_minor": 2
}
